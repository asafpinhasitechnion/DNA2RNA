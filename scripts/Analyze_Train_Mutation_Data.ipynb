{
 "cells": [
  {
   "cell_type": "code",
   "execution_count": 1,
   "id": "a193039e-72a4-4d0a-9e14-b3c77dedf892",
   "metadata": {},
   "outputs": [],
   "source": [
    "import pandas as pd\n",
    "import os\n",
    "from collections import defaultdict\n",
    "import matplotlib.pyplot as plt\n",
    "from sklearn.model_selection import KFold\n",
    "from sklearn.linear_model import LogisticRegression\n",
    "from sklearn.metrics import accuracy_score, roc_curve, roc_auc_score, confusion_matrix, ConfusionMatrixDisplay, RocCurveDisplay\n",
    "from sklearn.preprocessing import StandardScaler, OneHotEncoder"
   ]
  },
  {
   "cell_type": "code",
   "execution_count": 5,
   "id": "134dcc50-5e0d-4057-8f5d-82b25549ebd6",
   "metadata": {},
   "outputs": [],
   "source": [
    "rna_folder = '../../DNA2RNA_ML/Data/RNA/'\n",
    "dna_folder = '../../DNA2RNA_ML/Data/DNA/'\n",
    "\n",
    "rna_files = os.listdir(rna_folder)\n",
    "dna_files = os.listdir(dna_folder)"
   ]
  },
  {
   "cell_type": "markdown",
   "id": "d3ce699f-a9fe-4557-8b50-4fb0279a675e",
   "metadata": {},
   "source": [
    "#### Map DNA to RNA file"
   ]
  },
  {
   "cell_type": "code",
   "execution_count": 6,
   "id": "05bc8936-e798-4483-9b20-55f2c97b5e74",
   "metadata": {},
   "outputs": [],
   "source": [
    "terra_files_list = []\n",
    "terra_folder = '../../DNA2RNA_ML/Data/Terra_download_commands/'\n",
    "for file in os.listdir(terra_folder):\n",
    "    if file.endswith('.tsv'):\n",
    "        terra_df = pd.read_csv(os.path.join(terra_folder, file), sep = '\\t')\n",
    "        if file.startswith('LUAD'):\n",
    "            terra_df['DNA_file'] = terra_df['maf_file_capture_oxoG_filtered'].str.split('/').str[-1]\n",
    "        else:\n",
    "            terra_df['DNA_file'] = terra_df['maf_file_capture_novo_realign_filtered'].str.split('/').str[-1]\n",
    "        terra_df['RNA_file'] = terra_df['maf_file_rna_final_paper_v1_3'].str.split('/').str[-1]\n",
    "        terra_files_list.append(terra_df[['DNA_file', 'RNA_file']])\n",
    "\n",
    "terra_df = pd.concat(terra_files_list)\n",
    "terra_df = terra_df[((~terra_df['DNA_file'].isna()) & (~terra_df['RNA_file'].isna()))]\n",
    "\n",
    "# Initialize a dictionary where each value is a list\n",
    "dna_to_rna = defaultdict(list)\n",
    "\n",
    "# Populate the dictionary\n",
    "for dna, rna in zip(terra_df['DNA_file'], terra_df['RNA_file']):\n",
    "    dna_to_rna[dna].append(rna)\n",
    "\n",
    "# Convert defaultdict back to a regular dict if needed\n",
    "dna_to_rna = dict(dna_to_rna)"
   ]
  },
  {
   "cell_type": "code",
   "execution_count": null,
   "id": "714ea9f0-ca3e-4446-8690-6afc7a693c7a",
   "metadata": {},
   "outputs": [],
   "source": []
  },
  {
   "cell_type": "markdown",
   "id": "b63d5975-7f69-4c28-92e5-efd78eea25ea",
   "metadata": {},
   "source": [
    "#### Create a merged dataframe for DNA and RNA data"
   ]
  },
  {
   "cell_type": "code",
   "execution_count": null,
   "id": "40cb1abc-6a3b-4f42-b7de-49c2562b0c9a",
   "metadata": {
    "scrolled": true
   },
   "outputs": [],
   "source": [
    "merged_df_list = []\n",
    "chosen_columns = ['Hugo_Symbol', 'Entrez_Gene_Id', 'Tumor_Sample_Barcode', 'Chromosome', 'Start_position', 'Variant_Classification', 'Reference_Allele', 'Tumor_Seq_Allele2', 'Transcript_Exon', 'Transcript_Position', 'cDNA_Change', 'Codon_Change', 'Protein_Change', 'COSMIC_tissue_types_affected', 'COSMIC_total_alterations_in_gene', 'ref_context', 'gc_content', 'i_COSMIC_n_overlapping_mutations', 'i_init_t_lod', 'i_t_lod_fstar','t_alt_count','t_ref_count','i_tumor_f']\n",
    "\n",
    "for dna_file in dna_to_rna:\n",
    "    for rna_file in dna_to_rna[dna_file]:\n",
    "        # if str(rna_file) == 'nan':\n",
    "        #     print(dna_file, \"doesn't exist in RNA data\")\n",
    "        #     continue\n",
    "        if rna_file.endswith('.txt'):\n",
    "            rna_sample_df = pd.read_csv(os.path.join(rna_folder, rna_file), sep = '\\t', encoding = 'latin1', usecols = chosen_columns)\n",
    "        if dna_file.endswith('.maf.annotated'):\n",
    "            dna_sample_df = pd.read_csv(os.path.join(dna_folder, dna_file), sep = '\\t', encoding = 'latin1',  skiprows=3, usecols = chosen_columns)\n",
    "        elif dna_file.endswith('.maf'):\n",
    "            dna_sample_df = pd.read_csv(os.path.join(dna_folder, dna_file), sep = '\\t', encoding = 'latin1', skiprows=1, usecols = chosen_columns)\n",
    "        elif dna_file.endswith('.txt'):\n",
    "            dna_sample_df = pd.read_csv(os.path.join(dna_folder, dna_file), sep = '\\t', encoding = 'latin1', skiprows=1, usecols = chosen_columns)\n",
    "        # elif file.endswith('.txt'):\n",
    "        #     dna_sample_df = pd.read_csv(os.path.join(dna_folder, dna_file), sep = '\\t', encoding = 'latin1', skiprows=1, usecols = chosen_columns)\n",
    "\n",
    "        # dna_sample_df = dna_sample_df[chosen_columns]\n",
    "        # rna_sample_df = rna_sample_df[chosen_columns]\n",
    "        dna_sample_df.index = dna_sample_df['Chromosome'].astype(str) + '_' + dna_sample_df['Start_position'].astype(str) + '_' + dna_sample_df['Tumor_Seq_Allele2'].astype(str) \n",
    "        rna_sample_df.index = rna_sample_df['Chromosome'].astype(str) + '_' + rna_sample_df['Start_position'].astype(str) + '_' + rna_sample_df['Tumor_Seq_Allele2'].astype(str) \n",
    "        dna_sample_df['Appears_in_rna'] = dna_sample_df.index.isin(rna_sample_df.index)\n",
    "        merged_df_list.append(dna_sample_df)\n",
    "\n",
    "merged_df = pd.concat(merged_df_list)"
   ]
  },
  {
   "cell_type": "code",
   "execution_count": 74,
   "id": "2231047e-ac59-4074-bf8d-e8845a2939a2",
   "metadata": {
    "scrolled": true
   },
   "outputs": [],
   "source": [
    "for col in ['i_init_t_lod','i_t_lod_fstar','t_alt_count', 't_ref_count', 'i_tumor_f']:\n",
    "    merged_df[col] = (merged_df[col].astype(str) + '|').str.split('|').str[0].astype(float)"
   ]
  },
  {
   "cell_type": "markdown",
   "id": "e156b4d9-11af-41aa-8483-0b7bd79307d1",
   "metadata": {},
   "source": [
    "#### Format data for full model"
   ]
  },
  {
   "cell_type": "code",
   "execution_count": 75,
   "id": "bdc7f26c-f283-490f-bd94-0079e33a3ebb",
   "metadata": {},
   "outputs": [],
   "source": [
    "merged_df.columns = merged_df.columns.str.replace('i_COSMIC_n_overlapping_mutations', 'COSMIC_n_overlapping_mutations')\n",
    "merged_df.index = merged_df.index + '__' + merged_df['Tumor_Sample_Barcode']\n",
    "merged_df = merged_df[~merged_df.index.duplicated()]\n",
    "merged_df['Cancer_type'] = merged_df['Tumor_Sample_Barcode'].str.split('-').str[0]"
   ]
  },
  {
   "cell_type": "code",
   "execution_count": 76,
   "id": "de2c76c7-a6c7-47e8-841a-523cb30eead1",
   "metadata": {},
   "outputs": [],
   "source": [
    "merged_df['Chromosome'] = merged_df['Chromosome'].astype(str)\n",
    "chromosomes = set([str(i) for i in range(1,23)] + ['X', 'Y'])\n",
    "merged_df = merged_df[merged_df['Chromosome'].isin(chromosomes)]"
   ]
  },
  {
   "cell_type": "markdown",
   "id": "50a08767-e8b0-4737-8cf3-4961b0631383",
   "metadata": {},
   "source": [
    "#### Filter out by the variant type - need to make sure this is OK"
   ]
  },
  {
   "cell_type": "code",
   "execution_count": 77,
   "id": "1f7c8ca4-a2a8-4b09-8dcb-13a9f9aeacaa",
   "metadata": {
    "scrolled": true
   },
   "outputs": [],
   "source": [
    "variant_removal = merged_df[['Variant_Classification', 'Appears_in_rna']].groupby('Variant_Classification').mean()\n",
    "non_zero_relevant = list(variant_removal[variant_removal['Appears_in_rna'] != 0].index)\n",
    "merged_df = merged_df[merged_df['Variant_Classification'].isin(non_zero_relevant)] # remove RNA, and lincRNA?\n",
    "merged_df['Left_flank_base'] =  merged_df['ref_context'].str.slice(9,10).str.upper()\n",
    "merged_df['Right_flank_base'] =  merged_df['ref_context'].str.slice(11,12).str.upper()\n",
    "\n",
    "merged_df['Reference_Allele'] = merged_df['Reference_Allele'].str.slice(0, 1)\n",
    "merged_df['Tumor_Seq_Allele2'] = merged_df['Tumor_Seq_Allele2'].str.slice(0, 1)\n",
    "\n",
    "merged_df['Transcript_Position'] = pd.to_numeric(merged_df['Transcript_Position'], errors='coerce')"
   ]
  },
  {
   "cell_type": "code",
   "execution_count": 78,
   "id": "235c3814-7b87-48cd-9811-a7438c6096b0",
   "metadata": {},
   "outputs": [],
   "source": [
    "tissues_dict = {}\n",
    "for index, row in merged_df['COSMIC_tissue_types_affected'][~merged_df['COSMIC_tissue_types_affected'].isna()].str.split('|').items():\n",
    "    for tissues in row:\n",
    "        tissue = tissues[:tissues.index('(')]\n",
    "        number = tissues[tissues.index('(')+1:tissues.index(')')]\n",
    "        if 'Tissue_' + tissue not in tissues_dict:\n",
    "            tissues_dict['Tissue_' + tissue] = {}\n",
    "        try:\n",
    "            number = int(number)\n",
    "        except:\n",
    "            number = 0\n",
    "        tissues_dict['Tissue_' + tissue][index] = number\n",
    "\n",
    "tissues_df = pd.DataFrame(tissues_dict).fillna(0).astype(int)"
   ]
  },
  {
   "cell_type": "code",
   "execution_count": 85,
   "id": "4b290a4a-60d8-4d70-b008-e3886aadc7c8",
   "metadata": {},
   "outputs": [],
   "source": [
    "# Step 1: One-hot encode selected categorical columns\n",
    "numerical_df = pd.get_dummies(\n",
    "    merged_df,\n",
    "    columns=[\n",
    "        'Chromosome',\n",
    "        'Variant_Classification',\n",
    "        'Reference_Allele',\n",
    "        'Tumor_Seq_Allele2',\n",
    "        'Left_flank_base',\n",
    "        'Right_flank_base',\n",
    "        'Cancer_type'\n",
    "    ],\n",
    "    dtype=int  # Ensures dummies are 0/1 integers\n",
    ")\n",
    "numerical_df = numerical_df.merge(tissues_df, left_index=True, right_index=True, how='left')\n",
    "\n",
    "numerical_df = numerical_df.drop(['Protein_Change', 'Transcript_Exon', 'cDNA_Change', 'Codon_Change', 'Entrez_Gene_Id', 'COSMIC_tissue_types_affected', 'ref_context'], axis = 1)\n",
    "numerical_df['Cancer_type'] = merged_df['Cancer_type']\n",
    "numerical_df = numerical_df.loc[:,(numerical_df.nunique() > 1)]\n"
   ]
  },
  {
   "cell_type": "code",
   "execution_count": 90,
   "id": "50008b2a-bd32-4d05-9b21-28b230907f33",
   "metadata": {},
   "outputs": [],
   "source": [
    "numerical_df.to_csv('../data/TCGA_mutations.csv')"
   ]
  },
  {
   "cell_type": "code",
   "execution_count": null,
   "id": "dd508933",
   "metadata": {},
   "outputs": [],
   "source": []
  }
 ],
 "metadata": {
  "kernelspec": {
   "display_name": "DNA_to_RNA",
   "language": "python",
   "name": "python3"
  },
  "language_info": {
   "codemirror_mode": {
    "name": "ipython",
    "version": 3
   },
   "file_extension": ".py",
   "mimetype": "text/x-python",
   "name": "python",
   "nbconvert_exporter": "python",
   "pygments_lexer": "ipython3",
   "version": "3.12.7"
  }
 },
 "nbformat": 4,
 "nbformat_minor": 5
}
